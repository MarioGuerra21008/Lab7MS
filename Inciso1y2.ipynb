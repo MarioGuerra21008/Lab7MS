{
 "cells": [
  {
   "cell_type": "markdown",
   "metadata": {},
   "source": [
    "Dependencias necesarias"
   ]
  },
  {
   "cell_type": "code",
   "execution_count": 1,
   "metadata": {},
   "outputs": [
    {
     "name": "stderr",
     "output_type": "stream",
     "text": [
      "\u001b[32m\u001b[1m   Resolving\u001b[22m\u001b[39m package versions...\n",
      "\u001b[32m\u001b[1m  No Changes\u001b[22m\u001b[39m to `C:\\Users\\daher\\.julia\\environments\\v1.10\\Project.toml`\n",
      "\u001b[32m\u001b[1m  No Changes\u001b[22m\u001b[39m to `C:\\Users\\daher\\.julia\\environments\\v1.10\\Manifest.toml`\n",
      "\u001b[32m\u001b[1m   Resolving\u001b[22m\u001b[39m package versions...\n",
      "\u001b[32m\u001b[1m  No Changes\u001b[22m\u001b[39m to `C:\\Users\\daher\\.julia\\environments\\v1.10\\Project.toml`\n",
      "\u001b[32m\u001b[1m  No Changes\u001b[22m\u001b[39m to `C:\\Users\\daher\\.julia\\environments\\v1.10\\Manifest.toml`\n"
     ]
    }
   ],
   "source": [
    "using Pkg\n",
    "Pkg.add(\"JuMP\")\n",
    "Pkg.add(\"HiGHS\")"
   ]
  },
  {
   "cell_type": "code",
   "execution_count": 2,
   "metadata": {},
   "outputs": [
    {
     "name": "stdout",
     "output_type": "stream",
     "text": [
      "Running HiGHS 1.7.2 (git hash: 5ce7a2753): Copyright (c) 2024 HiGHS under MIT licence terms\n",
      "Coefficient ranges:\n",
      "  Matrix [1e+00, 1e+00]\n",
      "  Cost   [9e+02, 5e+03]\n",
      "  Bound  [0e+00, 0e+00]\n",
      "  RHS    [1e+02, 4e+02]\n",
      "Presolving model\n",
      "8 rows, 15 cols, 30 nonzeros  0s\n",
      "8 rows, 15 cols, 30 nonzeros  0s\n",
      "Presolve : Reductions: rows 8(-0); columns 15(-0); elements 30(-0) - Not reduced\n",
      "Problem not reduced by presolve: solving the LP\n",
      "Using EKK dual simplex solver - serial\n",
      "  Iteration        Objective     Infeasibilities num(sum)\n",
      "          0     0.0000000000e+00 Pr: 5(750) 0s\n",
      "          8     1.5825000000e+06 Pr: 0(0) 0s\n",
      "Model   status      : Optimal\n",
      "Simplex   iterations: 8\n",
      "Objective value     :  1.5825000000e+06\n",
      "HiGHS run time      :          0.01\n",
      "📚 Distribución óptima de automóviles:\n",
      "[100.0 0.0 0.0 160.0 140.0; 0.0 50.0 150.0 0.0 0.0; -0.0 150.0 0.0 0.0 0.0]\n",
      "🫳 Costo total asociado: $1.5825e6\n"
     ]
    }
   ],
   "source": [
    "using JuMP, HiGHS\n",
    "\n",
    "# Modelo y datos\n",
    "model = Model(HiGHS.Optimizer)\n",
    "distances = [100 150 200 140 35;\n",
    "             50 70 60 90 65;\n",
    "             40 90 100 150 130]\n",
    "offers = [400, 200, 150]\n",
    "demands = [100, 200, 150, 160, 140]\n",
    "costPerMile = 25\n",
    "@variable(model, x[1:3, 1:5] >= 0)\n",
    "@objective(model, Min, sum(costPerMile * distances[i,j] * x[i,j] for i in 1:3, j in 1:5)) # Funcion objetivo\n",
    "\n",
    "for i in 1:3\n",
    "    @constraint(model, sum(x[i,j] for j in 1:5) <= offers[i]) # Restricciones de oferta\n",
    "end\n",
    "\n",
    "for j in 1:5\n",
    "    @constraint(model, sum(x[i,j] for i in 1:3) == demands[j]) # Restricciones de demanda\n",
    "end\n",
    "\n",
    "optimize!(model)\n",
    "solution = value.(x)\n",
    "cost = objective_value(model)\n",
    "println(\"📚 Distribución óptima de automóviles:\")\n",
    "println(solution)\n",
    "println(\"🫳 Costo total asociado: \\$\", cost)"
   ]
  },
  {
   "cell_type": "markdown",
   "metadata": {},
   "source": [
    "### Inciso 2\n",
    "#### Parte a"
   ]
  },
  {
   "cell_type": "code",
   "execution_count": 3,
   "metadata": {},
   "outputs": [
    {
     "name": "stdout",
     "output_type": "stream",
     "text": [
      "Running HiGHS 1.7.2 (git hash: 5ce7a2753): Copyright (c) 2024 HiGHS under MIT licence terms\n",
      "Coefficient ranges:\n",
      "  Matrix [1e+00, 1e+00]\n",
      "  Cost   [9e+02, 5e+03]\n",
      "  Bound  [0e+00, 0e+00]\n",
      "  RHS    [1e+02, 4e+02]\n",
      "Presolving model\n",
      "8 rows, 15 cols, 30 nonzeros  0s\n",
      "8 rows, 15 cols, 30 nonzeros  0s\n",
      "Presolve : Reductions: rows 8(-0); columns 15(-0); elements 30(-0) - Not reduced\n",
      "Problem not reduced by presolve: solving the LP\n",
      "Using EKK dual simplex solver - serial\n",
      "  Iteration        Objective     Infeasibilities num(sum)\n",
      "          0     0.0000000000e+00 Pr: 5(810) 0s\n",
      "          8     1.6350094807e+06 0s\n",
      "Model   status      : Infeasible\n",
      "Simplex   iterations: 8\n",
      "Objective value     :  1.6350000000e+06\n",
      "HiGHS run time      :          0.00\n",
      "📚 Distribución óptima de automóviles (Parte a):\n",
      "[0.0 0.0 0.0 0.0 0.0; 0.0 0.0 0.0 0.0 0.0; 0.0 0.0 0.0 0.0 0.0]\n",
      "🫳 Costo total asociado (Parte a): $1.635e6\n"
     ]
    }
   ],
   "source": [
    "using JuMP, HiGHS\n",
    "\n",
    "model = Model(HiGHS.Optimizer)\n",
    "distances = [100 150 200 140 35;\n",
    "             50 70 60 90 65;\n",
    "             40 90 100 150 130]\n",
    "offers = [400, 200, 150]\n",
    "demands = [100, 200, 150, 160, 200]  \n",
    "costPerMile = 25\n",
    "\n",
    "@variable(model, x[1:3, 1:5] >= 0)\n",
    "\n",
    "@objective(model, Min, sum(costPerMile * distances[i,j] * x[i,j] for i in 1:3, j in 1:5))\n",
    "\n",
    "for i in 1:3\n",
    "    @constraint(model, sum(x[i,j] for j in 1:5) <= offers[i])\n",
    "end\n",
    "\n",
    "for j in 1:5\n",
    "    @constraint(model, sum(x[i,j] for i in 1:3) == demands[j])\n",
    "end\n",
    "\n",
    "optimize!(model)\n",
    "solutionA = value.(x)\n",
    "costA = objective_value(model)\n",
    "println(\"📚 Distribución óptima de automóviles (Parte a):\")\n",
    "println(solutionA)\n",
    "println(\"🫳 Costo total asociado (Parte a): \\$\", costA)"
   ]
  },
  {
   "cell_type": "markdown",
   "metadata": {},
   "source": [
    "#### Parte b"
   ]
  },
  {
   "cell_type": "code",
   "execution_count": 4,
   "metadata": {},
   "outputs": [
    {
     "name": "stdout",
     "output_type": "stream",
     "text": [
      "Running HiGHS 1.7.2 (git hash: 5ce7a2753): Copyright (c) 2024 HiGHS under MIT licence terms\n",
      "Coefficient ranges:\n",
      "  Matrix [1e+00, 1e+00]\n",
      "  Cost   [9e+02, 5e+03]\n",
      "  Bound  [0e+00, 0e+00]\n",
      "  RHS    [1e+02, 4e+02]\n",
      "Presolving model\n",
      "8 rows, 15 cols, 30 nonzeros  0s\n",
      "8 rows, 15 cols, 30 nonzeros  0s\n",
      "Presolve : Reductions: rows 8(-0); columns 15(-0); elements 30(-0) - Not reduced\n",
      "Problem not reduced by presolve: solving the LP\n",
      "Using EKK dual simplex solver - serial\n",
      "  Iteration        Objective     Infeasibilities num(sum)\n",
      "          0     0.0000000000e+00 Pr: 5(750) 0s\n",
      "         10     1.5075000000e+06 Pr: 0(0) 0s\n",
      "Model   status      : Optimal\n",
      "Simplex   iterations: 10\n",
      "Objective value     :  1.5075000000e+06\n",
      "HiGHS run time      :          0.00\n",
      "📚 Distribución óptima de automóviles (Parte b):\n",
      "[50.0 0.0 0.0 160.0 140.0; 0.0 50.0 150.0 0.0 0.0; 50.0 150.0 0.0 0.0 0.0]\n",
      "🫳 Costo total asociado (Parte b): $1.5075e6\n"
     ]
    }
   ],
   "source": [
    "using JuMP, HiGHS\n",
    "\n",
    "model = Model(HiGHS.Optimizer)\n",
    "distances = [100 150 200 140 35;\n",
    "             50 70 60 90 65;\n",
    "             40 90 100 150 130]\n",
    "offers = [400, 200, 200]  # Cambiamos la oferta del Centro 3 a 200\n",
    "demands = [100, 200, 150, 160, 140]\n",
    "costPerMile = 25\n",
    "\n",
    "@variable(model, x[1:3, 1:5] >= 0)\n",
    "\n",
    "@objective(model, Min, sum(costPerMile * distances[i,j] * x[i,j] for i in 1:3, j in 1:5))\n",
    "\n",
    "for i in 1:3\n",
    "    @constraint(model, sum(x[i,j] for j in 1:5) <= offers[i])\n",
    "end\n",
    "\n",
    "for j in 1:5\n",
    "    @constraint(model, sum(x[i,j] for i in 1:3) == demands[j])\n",
    "end\n",
    "\n",
    "optimize!(model)\n",
    "\n",
    "solutionB = value.(x)\n",
    "costB = objective_value(model)\n",
    "println(\"📚 Distribución óptima de automóviles (Parte b):\")\n",
    "println(solutionB)\n",
    "println(\"🫳 Costo total asociado (Parte b): \\$\", costB)\n"
   ]
  }
 ],
 "metadata": {
  "kernelspec": {
   "display_name": "Julia 1.10.5",
   "language": "julia",
   "name": "julia-1.10"
  },
  "language_info": {
   "file_extension": ".jl",
   "mimetype": "application/julia",
   "name": "julia",
   "version": "1.10.5"
  }
 },
 "nbformat": 4,
 "nbformat_minor": 2
}
